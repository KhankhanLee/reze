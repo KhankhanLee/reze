{
 "cells": [
  {
   "cell_type": "markdown",
   "id": "d84acf1f",
   "metadata": {},
   "source": [
    "# 🤖 Reze AI - Ollama 모델 학습\n",
    "Google Colab에서 Ollama 모델을 학습하고 라즈베리파이로 배포\n",
    "\n",
    "## 사전 준비\n",
    "1. GitHub 리포지토리에 Modelfile 업로드\n",
    "2. Colab Runtime을 GPU로 변경 (Runtime → Change runtime type → T4 GPU)"
   ]
  },
  {
   "cell_type": "code",
   "execution_count": null,
   "id": "e588e99f",
   "metadata": {},
   "outputs": [],
   "source": [
    "# 1. Ollama 설치\n",
    "!curl -fsSL https://ollama.com/install.sh | sh\n",
    "\n",
    "# Ollama 서버 백그라운드 실행\n",
    "import subprocess\n",
    "import time\n",
    "\n",
    "# Ollama 서버 시작\n",
    "process = subprocess.Popen(['ollama', 'serve'], stdout=subprocess.PIPE, stderr=subprocess.PIPE)\n",
    "time.sleep(5)  # 서버 시작 대기\n",
    "print(\"✅ Ollama 서버 시작됨\")"
   ]
  },
  {
   "cell_type": "code",
   "execution_count": null,
   "id": "77cefab8",
   "metadata": {},
   "outputs": [],
   "source": [
    "# 2. 베이스 모델 다운로드\n",
    "!ollama pull llama3.2:1b\n",
    "print(\"✅ 베이스 모델 다운로드 완료\")"
   ]
  },
  {
   "cell_type": "code",
   "execution_count": null,
   "id": "edc16517",
   "metadata": {},
   "outputs": [],
   "source": [
    "# 3. GitHub에서 Modelfile 가져오기\n",
    "!git clone https://github.com/KhankhanLee/reze.git\n",
    "!cd reze && git pull origin main\n",
    "print(\"✅ 리포지토리 클론 완료\")"
   ]
  },
  {
   "cell_type": "code",
   "execution_count": null,
   "id": "6eb5ab29",
   "metadata": {},
   "outputs": [],
   "source": [
    "# 4. 커스텀 모델 생성 (학습)\n",
    "!cd reze && ollama create reze -f Modelfile.example\n",
    "print(\"✅ 커스텀 모델 'reze' 생성 완료!\")"
   ]
  },
  {
   "cell_type": "code",
   "execution_count": null,
   "id": "666f8486",
   "metadata": {},
   "outputs": [],
   "source": [
    "# 5. 모델 테스트\n",
    "!ollama run reze \"안녕 레제! 오늘 기분이 어때?\""
   ]
  },
  {
   "cell_type": "code",
   "execution_count": null,
   "id": "5558faa5",
   "metadata": {},
   "outputs": [],
   "source": [
    "# 6. Modelfile 추출 (학습된 설정 저장)\n",
    "!ollama show reze --modelfile > reze_trained.Modelfile\n",
    "print(\"✅ Modelfile 저장됨: reze_trained.Modelfile\")\n",
    "\n",
    "# 파일 내용 확인\n",
    "!cat reze_trained.Modelfile"
   ]
  },
  {
   "cell_type": "markdown",
   "id": "a74e14af",
   "metadata": {},
   "source": [
    "## 📥 라즈베리파이로 전송\n",
    "\n",
    "**방법 1: Modelfile만 전송 (추천)**\n",
    "```bash\n",
    "# Colab에서 다운로드\n",
    "from google.colab import files\n",
    "files.download('reze_trained.Modelfile')\n",
    "```\n",
    "\n",
    "**방법 2: GitHub 커밋**\n",
    "```bash\n",
    "# Colab에서\n",
    "!cd reze && cp ../reze_trained.Modelfile Modelfile.example\n",
    "!cd reze && git add Modelfile.example\n",
    "!cd reze && git commit -m \"Update trained model\"\n",
    "# 이후 수동으로 push (토큰 필요)\n",
    "```"
   ]
  },
  {
   "cell_type": "code",
   "execution_count": null,
   "id": "9a48dddd",
   "metadata": {},
   "outputs": [],
   "source": [
    "# Modelfile 다운로드\n",
    "from google.colab import files\n",
    "files.download('reze_trained.Modelfile')"
   ]
  },
  {
   "cell_type": "markdown",
   "id": "facd1bb5",
   "metadata": {},
   "source": [
    "## 🥧 라즈베리파이 배포\n",
    "\n",
    "SSH로 라즈베리파이 접속 후:\n",
    "\n",
    "```bash\n",
    "# 1. Modelfile 업로드\n",
    "scp reze_trained.Modelfile pi@raspberrypi:/home/pi/\n",
    "\n",
    "# 2. 라즈베리파이에서 모델 생성\n",
    "ssh pi@raspberrypi\n",
    "ollama create reze -f reze_trained.Modelfile\n",
    "\n",
    "# 3. 테스트\n",
    "ollama run reze \"안녕!\"\n",
    "\n",
    "# 4. 서비스 재시작\n",
    "sudo systemctl restart ollama\n",
    "```"
   ]
  }
 ],
 "metadata": {
  "language_info": {
   "name": "python"
  }
 },
 "nbformat": 4,
 "nbformat_minor": 5
}
